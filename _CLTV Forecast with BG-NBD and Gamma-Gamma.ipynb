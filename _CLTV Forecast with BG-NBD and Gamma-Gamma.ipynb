{
 "cells": [
  {
   "cell_type": "code",
   "execution_count": 1,
   "id": "127913c9",
   "metadata": {},
   "outputs": [],
   "source": [
    "#################### CLTV Forecast with BG-NBD and Gamma-Gamma #########################"
   ]
  },
  {
   "cell_type": "code",
   "execution_count": 2,
   "id": "dadcd864",
   "metadata": {},
   "outputs": [],
   "source": [
    "#FLO wants to set a roadmap for its sales and marketing activities.\n",
    "#In order for the company to make a medium-long-term plan, \n",
    "#it is necessary to estimate the potential value that the existing customers will provide to the future company."
   ]
  },
  {
   "cell_type": "code",
   "execution_count": 3,
   "id": "5c47cb65",
   "metadata": {},
   "outputs": [],
   "source": [
    "#It consists of the information obtained from the past shopping behaviors of customers\n",
    "#who made their last shopping from Flo as OmniChannel (both online and offline shopping) in the years 2020-2021."
   ]
  },
  {
   "cell_type": "code",
   "execution_count": 4,
   "id": "4fbed07a",
   "metadata": {},
   "outputs": [],
   "source": [
    "##The Story of Data Set\n",
    "\n",
    "# master_id : Unique customer id,\n",
    "# order_channel : Which channel of the shopping platform is used (Android, ios, Desktop, Mobile),\n",
    "# last_order_channel : The channel where the most recent purchase was made,\n",
    "# first_order_date : Date of the customer's first purchase,\n",
    "# last_order_date :Date of the customer's last purchase,\n",
    "# last_order_date_online : The date of the last purchase made by the customer on the online platform,\n",
    "# last_order_date_offline : The date of the last purchase made by the customer on the offline platform,\n",
    "# order_num_total_ever_online :The total number of purchases made by the customer on the online platform,\n",
    "# order_num_total_ever_offline :The total number of purchases made by the customer on the offline platform\n",
    "# customer_value_total_ever_offline : Total fee paid by the customer for offline purchases,\n",
    "# customer_value_total_ever_online : Total fee paid by the customer for online purchases,\n",
    "# interested_in_categories_12 : List of categories the customer has shopped in the last 12 months"
   ]
  },
  {
   "cell_type": "code",
   "execution_count": 5,
   "id": "c7f31b04",
   "metadata": {},
   "outputs": [],
   "source": [
    "#Task 1: Data Preparing"
   ]
  },
  {
   "cell_type": "code",
   "execution_count": 2,
   "id": "816b031c",
   "metadata": {},
   "outputs": [
    {
     "name": "stdout",
     "output_type": "stream",
     "text": [
      "Collecting lifetimes\n",
      "  Using cached Lifetimes-0.11.3-py3-none-any.whl (584 kB)\n",
      "Requirement already satisfied: pandas>=0.24.0 in c:\\users\\esran\\anaconda3\\lib\\site-packages (from lifetimes) (1.4.4)\n",
      "Requirement already satisfied: scipy>=1.0.0 in c:\\users\\esran\\anaconda3\\lib\\site-packages (from lifetimes) (1.9.1)\n",
      "Requirement already satisfied: dill>=0.2.6 in c:\\users\\esran\\anaconda3\\lib\\site-packages (from lifetimes) (0.3.4)\n",
      "Requirement already satisfied: numpy>=1.10.0 in c:\\users\\esran\\anaconda3\\lib\\site-packages (from lifetimes) (1.21.5)\n",
      "Collecting autograd>=1.2.0\n",
      "  Using cached autograd-1.5-py3-none-any.whl (48 kB)\n",
      "Requirement already satisfied: future>=0.15.2 in c:\\users\\esran\\anaconda3\\lib\\site-packages (from autograd>=1.2.0->lifetimes) (0.18.2)\n",
      "Requirement already satisfied: pytz>=2020.1 in c:\\users\\esran\\anaconda3\\lib\\site-packages (from pandas>=0.24.0->lifetimes) (2022.1)\n",
      "Requirement already satisfied: python-dateutil>=2.8.1 in c:\\users\\esran\\anaconda3\\lib\\site-packages (from pandas>=0.24.0->lifetimes) (2.8.2)\n",
      "Requirement already satisfied: six>=1.5 in c:\\users\\esran\\anaconda3\\lib\\site-packages (from python-dateutil>=2.8.1->pandas>=0.24.0->lifetimes) (1.16.0)\n",
      "Installing collected packages: autograd, lifetimes\n",
      "Successfully installed autograd-1.5 lifetimes-0.11.3\n"
     ]
    }
   ],
   "source": [
    "!pip install lifetimes"
   ]
  },
  {
   "cell_type": "code",
   "execution_count": 1,
   "id": "551bd295",
   "metadata": {},
   "outputs": [],
   "source": [
    "import datetime as dt\n",
    "import matplotlib as plt\n",
    "import pandas as pd\n",
    "from lifetimes import BetaGeoFitter\n",
    "from lifetimes import GammaGammaFitter\n",
    "from lifetimes.plotting import plot_period_transactions\n",
    "\n",
    "pd.set_option('display.max_columns', None)\n",
    "pd.set_option('display.width', 500)\n",
    "pd.set_option('display.float_format', lambda x: '%.4f' % x)\n",
    "from sklearn.preprocessing import MinMaxScaler"
   ]
  },
  {
   "cell_type": "code",
   "execution_count": 8,
   "id": "61a2ec36",
   "metadata": {},
   "outputs": [],
   "source": [
    "#Step 1: Read the flo_data_20K.csv data. Make a copy of the dataframe."
   ]
  },
  {
   "cell_type": "code",
   "execution_count": 2,
   "id": "d9004a74",
   "metadata": {},
   "outputs": [
    {
     "data": {
      "text/plain": [
       "master_id                             object\n",
       "order_channel                         object\n",
       "last_order_channel                    object\n",
       "first_order_date                      object\n",
       "last_order_date                       object\n",
       "last_order_date_online                object\n",
       "last_order_date_offline               object\n",
       "order_num_total_ever_online          float64\n",
       "order_num_total_ever_offline         float64\n",
       "customer_value_total_ever_offline    float64\n",
       "customer_value_total_ever_online     float64\n",
       "interested_in_categories_12           object\n",
       "dtype: object"
      ]
     },
     "execution_count": 2,
     "metadata": {},
     "output_type": "execute_result"
    }
   ],
   "source": [
    "df = pd.read_csv(r'C:\\Users\\esran\\Desktop\\DATA SET\\flo_data_20k.csv')\n",
    "df.head()\n",
    "df.dtypes"
   ]
  },
  {
   "cell_type": "code",
   "execution_count": null,
   "id": "c0d7f843",
   "metadata": {},
   "outputs": [],
   "source": [
    "# Step 2: Define the required outlier_thresholds and replace_with_thresholds functions to suppress outliers."
   ]
  },
  {
   "cell_type": "code",
   "execution_count": 5,
   "id": "adea89d6",
   "metadata": {},
   "outputs": [],
   "source": [
    "def outlier_thresholds(dataframe, variable):\n",
    "    quartile1 = dataframe[variable].quantile(0.01)\n",
    "    quartile3 = dataframe[variable].quantile(0.99)\n",
    "    interquantile_range = quartile3 - quartile1\n",
    "    up_limit = quartile3 + 1.5 * interquantile_range\n",
    "    low_limit = quartile1 - 1.5 * interquantile_range\n",
    "    return low_limit, up_limit\n"
   ]
  },
  {
   "cell_type": "code",
   "execution_count": 3,
   "id": "7831228a",
   "metadata": {},
   "outputs": [],
   "source": [
    "def replace_with_thresholds(dataframe, variable):\n",
    "    low_limit, up_limit = outlier_thresholds(dataframe, variable)\n",
    "    dataframe.loc[(dataframe[variable] < low_limit), variable] = round(low_limit,0)\n",
    "    dataframe.loc[(dataframe[variable] > up_limit), variable] = round(up_limit,0)"
   ]
  },
  {
   "cell_type": "code",
   "execution_count": 14,
   "id": "5549a983",
   "metadata": {},
   "outputs": [],
   "source": [
    "#Step 3: If the variables \"order_num_total_ever_online\",\n",
    "#\"order_num_total_ever_offline\", \"customer_value_total_ever_offline\", \n",
    "#\"customer_value_total_ever_online\" have outliers, we suppress them."
   ]
  },
  {
   "cell_type": "code",
   "execution_count": 6,
   "id": "26f5cc0f",
   "metadata": {},
   "outputs": [],
   "source": [
    "columns = [\"order_num_total_ever_online\", \"order_num_total_ever_offline\", \"customer_value_total_ever_offline\",\"customer_value_total_ever_online\"]\n",
    "for col in columns:\n",
    "    replace_with_thresholds(df, col)"
   ]
  },
  {
   "cell_type": "code",
   "execution_count": 16,
   "id": "1f91f015",
   "metadata": {},
   "outputs": [],
   "source": [
    "# Step 3: Omnichannel means that customers shop from both online and offline platforms.\n",
    "# Create new variables for the total number of purchases and spending of each customer."
   ]
  },
  {
   "cell_type": "code",
   "execution_count": 7,
   "id": "203c4d5b",
   "metadata": {},
   "outputs": [],
   "source": [
    "df[\"order_num_total\"] = df[\"order_num_total_ever_online\"] + df[\"order_num_total_ever_offline\"]\n",
    "df[\"customer_value_total\"] = df[\"customer_value_total_ever_offline\"] + df[\"customer_value_total_ever_online\"]"
   ]
  },
  {
   "cell_type": "code",
   "execution_count": 18,
   "id": "852a4b30",
   "metadata": {},
   "outputs": [],
   "source": [
    "# Step 4: Examine the variable types. Change the type of variables that express date to date."
   ]
  },
  {
   "cell_type": "code",
   "execution_count": 8,
   "id": "56065efc",
   "metadata": {},
   "outputs": [],
   "source": [
    "date_columns = [col for col in df.columns if \"date\" in col]\n",
    "df[date_columns] = df[date_columns].apply(pd.to_datetime)"
   ]
  },
  {
   "cell_type": "code",
   "execution_count": 20,
   "id": "db5af2da",
   "metadata": {},
   "outputs": [],
   "source": [
    "#Task 2: Creating the CLTV Data Structure"
   ]
  },
  {
   "cell_type": "code",
   "execution_count": 21,
   "id": "15dbd35e",
   "metadata": {},
   "outputs": [],
   "source": [
    "#Step1: Remain 2 days after the date of the last purchase in the data set as the analysis date."
   ]
  },
  {
   "cell_type": "code",
   "execution_count": 9,
   "id": "af55b0ae",
   "metadata": {},
   "outputs": [
    {
     "data": {
      "text/plain": [
       "datetime.datetime"
      ]
     },
     "execution_count": 9,
     "metadata": {},
     "output_type": "execute_result"
    }
   ],
   "source": [
    "df[\"last_order_date\"].max()\n",
    "today_date = dt.datetime(2021, 6, 1)\n",
    "type(today_date)"
   ]
  },
  {
   "cell_type": "code",
   "execution_count": 23,
   "id": "8504b376",
   "metadata": {},
   "outputs": [],
   "source": [
    "#Step2: Create a new cltvdataframe containing the values of customer_id, \n",
    "#recency_cltv_weekly, T_we ekly, frequency and monetary_cltv_avg.\n",
    "#Monetary value will be expressed as average value per purchase, recency and tenure values will be expressed in weekly terms."
   ]
  },
  {
   "cell_type": "code",
   "execution_count": 10,
   "id": "8be708a2",
   "metadata": {},
   "outputs": [],
   "source": [
    "cltv_df = pd.DataFrame()\n",
    "cltv_df[\"customer_id\"] = df[\"master_id\"]\n",
    "cltv_df[\"recency_cltv_weekly\"] = ((df[\"last_order_date\"]- df[\"first_order_date\"]).astype('timedelta64[D]')) / 7\n",
    "cltv_df[\"T_weekly\"] = ((today_date - df[\"first_order_date\"]).astype('timedelta64[D]'))/7\n",
    "cltv_df[\"frequency\"] = df[\"order_num_total\"]\n",
    "cltv_df[\"monetary_cltv_avg\"] = df[\"customer_value_total\"] / df[\"order_num_total\"]"
   ]
  },
  {
   "cell_type": "code",
   "execution_count": 25,
   "id": "aa81acf8",
   "metadata": {},
   "outputs": [],
   "source": [
    "#Task 3: Establishment of BG/NBD, Gamma-Gamma Models and Calculation of CLTV"
   ]
  },
  {
   "cell_type": "code",
   "execution_count": 26,
   "id": "2d327d85",
   "metadata": {},
   "outputs": [],
   "source": [
    "#Step 1:Fit the BG/NBD model"
   ]
  },
  {
   "cell_type": "code",
   "execution_count": 11,
   "id": "bcfa1444",
   "metadata": {},
   "outputs": [
    {
     "name": "stderr",
     "output_type": "stream",
     "text": [
      "C:\\Users\\esran\\anaconda3\\lib\\site-packages\\pandas\\core\\arraylike.py:397: RuntimeWarning: invalid value encountered in sqrt\n",
      "  result = getattr(ufunc, method)(*inputs, **kwargs)\n"
     ]
    },
    {
     "data": {
      "text/plain": [
       "<lifetimes.BetaGeoFitter: fitted with 19945 subjects, a: 0.00, alpha: 76.17, b: 0.00, r: 3.66>"
      ]
     },
     "execution_count": 11,
     "metadata": {},
     "output_type": "execute_result"
    }
   ],
   "source": [
    "bgf = BetaGeoFitter(penalizer_coef=0.001)\n",
    "bgf.fit(cltv_df['frequency'],\n",
    "        cltv_df['recency_cltv_weekly'],\n",
    "        cltv_df['T_weekly'])"
   ]
  },
  {
   "cell_type": "code",
   "execution_count": null,
   "id": "913b97e0",
   "metadata": {},
   "outputs": [],
   "source": [
    "#estimated the expected purchases from the customers within 3 months \n",
    "#and add the exp_sales_3_month to the cltv dataframe."
   ]
  },
  {
   "cell_type": "code",
   "execution_count": 12,
   "id": "ebd249ba",
   "metadata": {},
   "outputs": [],
   "source": [
    "cltv_df[\"exp_sales_3_month\"] = bgf.predict(4*3,\n",
    "                                       cltv_df['frequency'],\n",
    "                                       cltv_df['recency_cltv_weekly'],\n",
    "                                       cltv_df['T_weekly'])"
   ]
  },
  {
   "cell_type": "code",
   "execution_count": null,
   "id": "54497491",
   "metadata": {},
   "outputs": [],
   "source": [
    "#Step2: Fit the Gamma-Gamma model. \n",
    "#Estimate the average value that customers will leave and add it to the cltvdataframe as exp_average_value."
   ]
  },
  {
   "cell_type": "code",
   "execution_count": 13,
   "id": "7729c874",
   "metadata": {},
   "outputs": [
    {
     "data": {
      "text/html": [
       "<div>\n",
       "<style scoped>\n",
       "    .dataframe tbody tr th:only-of-type {\n",
       "        vertical-align: middle;\n",
       "    }\n",
       "\n",
       "    .dataframe tbody tr th {\n",
       "        vertical-align: top;\n",
       "    }\n",
       "\n",
       "    .dataframe thead th {\n",
       "        text-align: right;\n",
       "    }\n",
       "</style>\n",
       "<table border=\"1\" class=\"dataframe\">\n",
       "  <thead>\n",
       "    <tr style=\"text-align: right;\">\n",
       "      <th></th>\n",
       "      <th>customer_id</th>\n",
       "      <th>recency_cltv_weekly</th>\n",
       "      <th>T_weekly</th>\n",
       "      <th>frequency</th>\n",
       "      <th>monetary_cltv_avg</th>\n",
       "      <th>exp_sales_3_month</th>\n",
       "      <th>exp_average_value</th>\n",
       "    </tr>\n",
       "  </thead>\n",
       "  <tbody>\n",
       "    <tr>\n",
       "      <th>0</th>\n",
       "      <td>cc294636-19f0-11eb-8d74-000d3a38a36f</td>\n",
       "      <td>17.0000</td>\n",
       "      <td>30.5714</td>\n",
       "      <td>5.0000</td>\n",
       "      <td>187.8740</td>\n",
       "      <td>0.9739</td>\n",
       "      <td>193.6327</td>\n",
       "    </tr>\n",
       "    <tr>\n",
       "      <th>1</th>\n",
       "      <td>f431bd5a-ab7b-11e9-a2fc-000d3a38a36f</td>\n",
       "      <td>209.8571</td>\n",
       "      <td>224.8571</td>\n",
       "      <td>21.0000</td>\n",
       "      <td>95.8833</td>\n",
       "      <td>0.9832</td>\n",
       "      <td>96.6650</td>\n",
       "    </tr>\n",
       "    <tr>\n",
       "      <th>2</th>\n",
       "      <td>69b69676-1a40-11ea-941b-000d3a38a36f</td>\n",
       "      <td>52.2857</td>\n",
       "      <td>78.8571</td>\n",
       "      <td>5.0000</td>\n",
       "      <td>117.0640</td>\n",
       "      <td>0.6706</td>\n",
       "      <td>120.9676</td>\n",
       "    </tr>\n",
       "    <tr>\n",
       "      <th>3</th>\n",
       "      <td>1854e56c-491f-11eb-806e-000d3a38a36f</td>\n",
       "      <td>1.5714</td>\n",
       "      <td>20.8571</td>\n",
       "      <td>2.0000</td>\n",
       "      <td>60.9850</td>\n",
       "      <td>0.7004</td>\n",
       "      <td>67.3201</td>\n",
       "    </tr>\n",
       "    <tr>\n",
       "      <th>4</th>\n",
       "      <td>d6ea1074-f1f5-11e9-9346-000d3a38a36f</td>\n",
       "      <td>83.1429</td>\n",
       "      <td>95.4286</td>\n",
       "      <td>2.0000</td>\n",
       "      <td>104.9900</td>\n",
       "      <td>0.3960</td>\n",
       "      <td>114.3251</td>\n",
       "    </tr>\n",
       "  </tbody>\n",
       "</table>\n",
       "</div>"
      ],
      "text/plain": [
       "                            customer_id  recency_cltv_weekly  T_weekly  frequency  monetary_cltv_avg  exp_sales_3_month  exp_average_value\n",
       "0  cc294636-19f0-11eb-8d74-000d3a38a36f              17.0000   30.5714     5.0000           187.8740             0.9739           193.6327\n",
       "1  f431bd5a-ab7b-11e9-a2fc-000d3a38a36f             209.8571  224.8571    21.0000            95.8833             0.9832            96.6650\n",
       "2  69b69676-1a40-11ea-941b-000d3a38a36f              52.2857   78.8571     5.0000           117.0640             0.6706           120.9676\n",
       "3  1854e56c-491f-11eb-806e-000d3a38a36f               1.5714   20.8571     2.0000            60.9850             0.7004            67.3201\n",
       "4  d6ea1074-f1f5-11e9-9346-000d3a38a36f              83.1429   95.4286     2.0000           104.9900             0.3960           114.3251"
      ]
     },
     "execution_count": 13,
     "metadata": {},
     "output_type": "execute_result"
    }
   ],
   "source": [
    "ggf = GammaGammaFitter(penalizer_coef=0.01)\n",
    "ggf.fit(cltv_df['frequency'], cltv_df['monetary_cltv_avg'])\n",
    "cltv_df[\"exp_average_value\"] = ggf.conditional_expected_average_profit(cltv_df['frequency'],  # getireceği parayı tahmiin ediyoruz\n",
    "                                                                cltv_df['monetary_cltv_avg'])\n",
    "cltv_df.head()"
   ]
  },
  {
   "cell_type": "code",
   "execution_count": 14,
   "id": "fdd46493",
   "metadata": {},
   "outputs": [],
   "source": [
    "#Step3: Calculate 6-month CLTV and add it to the dataframe with the cltv name.\n",
    "#• Observe the 20 people with the highest CLTV value"
   ]
  },
  {
   "cell_type": "code",
   "execution_count": 17,
   "id": "863c9356",
   "metadata": {},
   "outputs": [
    {
     "data": {
      "text/html": [
       "<div>\n",
       "<style scoped>\n",
       "    .dataframe tbody tr th:only-of-type {\n",
       "        vertical-align: middle;\n",
       "    }\n",
       "\n",
       "    .dataframe tbody tr th {\n",
       "        vertical-align: top;\n",
       "    }\n",
       "\n",
       "    .dataframe thead th {\n",
       "        text-align: right;\n",
       "    }\n",
       "</style>\n",
       "<table border=\"1\" class=\"dataframe\">\n",
       "  <thead>\n",
       "    <tr style=\"text-align: right;\">\n",
       "      <th></th>\n",
       "      <th>customer_id</th>\n",
       "      <th>recency_cltv_weekly</th>\n",
       "      <th>T_weekly</th>\n",
       "      <th>frequency</th>\n",
       "      <th>monetary_cltv_avg</th>\n",
       "      <th>exp_sales_3_month</th>\n",
       "      <th>exp_average_value</th>\n",
       "      <th>cltv</th>\n",
       "    </tr>\n",
       "  </thead>\n",
       "  <tbody>\n",
       "    <tr>\n",
       "      <th>9055</th>\n",
       "      <td>47a642fe-975b-11eb-8c2a-000d3a38a36f</td>\n",
       "      <td>2.8571</td>\n",
       "      <td>7.8571</td>\n",
       "      <td>4.0000</td>\n",
       "      <td>1401.8000</td>\n",
       "      <td>1.0944</td>\n",
       "      <td>1449.0605</td>\n",
       "      <td>3327.7770</td>\n",
       "    </tr>\n",
       "    <tr>\n",
       "      <th>13880</th>\n",
       "      <td>7137a5c0-7aad-11ea-8f20-000d3a38a36f</td>\n",
       "      <td>6.1429</td>\n",
       "      <td>13.1429</td>\n",
       "      <td>11.0000</td>\n",
       "      <td>758.0855</td>\n",
       "      <td>1.9701</td>\n",
       "      <td>767.3606</td>\n",
       "      <td>3172.3944</td>\n",
       "    </tr>\n",
       "    <tr>\n",
       "      <th>17323</th>\n",
       "      <td>f59053e2-a503-11e9-a2fc-000d3a38a36f</td>\n",
       "      <td>51.7143</td>\n",
       "      <td>101.0000</td>\n",
       "      <td>7.0000</td>\n",
       "      <td>1106.4671</td>\n",
       "      <td>0.7222</td>\n",
       "      <td>1127.6115</td>\n",
       "      <td>1708.9821</td>\n",
       "    </tr>\n",
       "    <tr>\n",
       "      <th>12438</th>\n",
       "      <td>625f40a2-5bd2-11ea-98b0-000d3a38a36f</td>\n",
       "      <td>74.2857</td>\n",
       "      <td>74.5714</td>\n",
       "      <td>16.0000</td>\n",
       "      <td>501.8737</td>\n",
       "      <td>1.5653</td>\n",
       "      <td>506.1667</td>\n",
       "      <td>1662.6135</td>\n",
       "    </tr>\n",
       "    <tr>\n",
       "      <th>7330</th>\n",
       "      <td>a4d534a2-5b1b-11eb-8dbd-000d3a38a36f</td>\n",
       "      <td>62.7143</td>\n",
       "      <td>67.2857</td>\n",
       "      <td>52.0000</td>\n",
       "      <td>166.2246</td>\n",
       "      <td>4.6561</td>\n",
       "      <td>166.7123</td>\n",
       "      <td>1628.8874</td>\n",
       "    </tr>\n",
       "    <tr>\n",
       "      <th>8868</th>\n",
       "      <td>9ce6e520-89b0-11ea-a6e7-000d3a38a36f</td>\n",
       "      <td>3.4286</td>\n",
       "      <td>34.4286</td>\n",
       "      <td>8.0000</td>\n",
       "      <td>601.2262</td>\n",
       "      <td>1.2655</td>\n",
       "      <td>611.4926</td>\n",
       "      <td>1623.8127</td>\n",
       "    </tr>\n",
       "    <tr>\n",
       "      <th>6402</th>\n",
       "      <td>851de3b4-8f0c-11eb-8cb8-000d3a38a36f</td>\n",
       "      <td>8.2857</td>\n",
       "      <td>9.4286</td>\n",
       "      <td>2.0000</td>\n",
       "      <td>862.6900</td>\n",
       "      <td>0.7939</td>\n",
       "      <td>923.6800</td>\n",
       "      <td>1538.8559</td>\n",
       "    </tr>\n",
       "    <tr>\n",
       "      <th>6666</th>\n",
       "      <td>53fe00d4-7b7a-11eb-960b-000d3a38a36f</td>\n",
       "      <td>9.7143</td>\n",
       "      <td>13.0000</td>\n",
       "      <td>17.0000</td>\n",
       "      <td>259.8653</td>\n",
       "      <td>2.7807</td>\n",
       "      <td>262.0729</td>\n",
       "      <td>1529.2280</td>\n",
       "    </tr>\n",
       "    <tr>\n",
       "      <th>19538</th>\n",
       "      <td>55d54d9e-8ac7-11ea-8ec0-000d3a38a36f</td>\n",
       "      <td>52.5714</td>\n",
       "      <td>58.7143</td>\n",
       "      <td>31.0000</td>\n",
       "      <td>228.5300</td>\n",
       "      <td>3.0838</td>\n",
       "      <td>229.6069</td>\n",
       "      <td>1485.8192</td>\n",
       "    </tr>\n",
       "    <tr>\n",
       "      <th>14858</th>\n",
       "      <td>031b2954-6d28-11eb-99c4-000d3a38a36f</td>\n",
       "      <td>14.8571</td>\n",
       "      <td>15.5714</td>\n",
       "      <td>3.0000</td>\n",
       "      <td>743.5867</td>\n",
       "      <td>0.8716</td>\n",
       "      <td>778.0504</td>\n",
       "      <td>1422.9997</td>\n",
       "    </tr>\n",
       "    <tr>\n",
       "      <th>17963</th>\n",
       "      <td>8fd88976-6708-11ea-9d38-000d3a38a36f</td>\n",
       "      <td>50.2857</td>\n",
       "      <td>63.2857</td>\n",
       "      <td>7.0000</td>\n",
       "      <td>694.1986</td>\n",
       "      <td>0.9176</td>\n",
       "      <td>707.6856</td>\n",
       "      <td>1362.6072</td>\n",
       "    </tr>\n",
       "    <tr>\n",
       "      <th>15516</th>\n",
       "      <td>9083981a-f59e-11e9-841e-000d3a38a36f</td>\n",
       "      <td>63.5714</td>\n",
       "      <td>83.8571</td>\n",
       "      <td>4.0000</td>\n",
       "      <td>1090.3600</td>\n",
       "      <td>0.5746</td>\n",
       "      <td>1127.3545</td>\n",
       "      <td>1359.4397</td>\n",
       "    </tr>\n",
       "    <tr>\n",
       "      <th>6717</th>\n",
       "      <td>40b4f318-9dfb-11eb-9c47-000d3a38a36f</td>\n",
       "      <td>27.1429</td>\n",
       "      <td>33.8571</td>\n",
       "      <td>7.0000</td>\n",
       "      <td>544.7000</td>\n",
       "      <td>1.1630</td>\n",
       "      <td>555.4103</td>\n",
       "      <td>1355.4352</td>\n",
       "    </tr>\n",
       "    <tr>\n",
       "      <th>4157</th>\n",
       "      <td>7eed6468-4540-11ea-acaf-000d3a38a36f</td>\n",
       "      <td>89.1429</td>\n",
       "      <td>90.0000</td>\n",
       "      <td>27.0000</td>\n",
       "      <td>289.7641</td>\n",
       "      <td>2.2143</td>\n",
       "      <td>291.2922</td>\n",
       "      <td>1353.5337</td>\n",
       "    </tr>\n",
       "    <tr>\n",
       "      <th>4735</th>\n",
       "      <td>dbabb58e-6312-11ea-a6dc-000d3a38a36f</td>\n",
       "      <td>61.2857</td>\n",
       "      <td>64.2857</td>\n",
       "      <td>13.0000</td>\n",
       "      <td>442.1154</td>\n",
       "      <td>1.4236</td>\n",
       "      <td>446.8162</td>\n",
       "      <td>1334.8251</td>\n",
       "    </tr>\n",
       "    <tr>\n",
       "      <th>11694</th>\n",
       "      <td>90f1b7f2-bbad-11ea-a0c9-000d3a38a36f</td>\n",
       "      <td>47.2857</td>\n",
       "      <td>48.0000</td>\n",
       "      <td>6.0000</td>\n",
       "      <td>647.3450</td>\n",
       "      <td>0.9339</td>\n",
       "      <td>662.1103</td>\n",
       "      <td>1297.5186</td>\n",
       "    </tr>\n",
       "    <tr>\n",
       "      <th>11179</th>\n",
       "      <td>d2e74a36-3228-11eb-860c-000d3a38a36f</td>\n",
       "      <td>1.1429</td>\n",
       "      <td>26.2857</td>\n",
       "      <td>3.0000</td>\n",
       "      <td>750.5700</td>\n",
       "      <td>0.7804</td>\n",
       "      <td>785.3440</td>\n",
       "      <td>1286.1378</td>\n",
       "    </tr>\n",
       "    <tr>\n",
       "      <th>1853</th>\n",
       "      <td>f02473b0-43c3-11eb-806e-000d3a38a36f</td>\n",
       "      <td>17.2857</td>\n",
       "      <td>23.1429</td>\n",
       "      <td>2.0000</td>\n",
       "      <td>835.8750</td>\n",
       "      <td>0.6843</td>\n",
       "      <td>895.0369</td>\n",
       "      <td>1285.2277</td>\n",
       "    </tr>\n",
       "    <tr>\n",
       "      <th>5775</th>\n",
       "      <td>e31293ac-d63a-11e9-93bc-000d3a38a36f</td>\n",
       "      <td>91.7143</td>\n",
       "      <td>93.1429</td>\n",
       "      <td>8.0000</td>\n",
       "      <td>727.0862</td>\n",
       "      <td>0.8266</td>\n",
       "      <td>739.3933</td>\n",
       "      <td>1282.5758</td>\n",
       "    </tr>\n",
       "    <tr>\n",
       "      <th>7312</th>\n",
       "      <td>90befc98-925a-11eb-b584-000d3a38a36f</td>\n",
       "      <td>4.1429</td>\n",
       "      <td>8.8571</td>\n",
       "      <td>6.0000</td>\n",
       "      <td>431.3283</td>\n",
       "      <td>1.3638</td>\n",
       "      <td>441.3982</td>\n",
       "      <td>1263.1912</td>\n",
       "    </tr>\n",
       "  </tbody>\n",
       "</table>\n",
       "</div>"
      ],
      "text/plain": [
       "                                customer_id  recency_cltv_weekly  T_weekly  frequency  monetary_cltv_avg  exp_sales_3_month  exp_average_value      cltv\n",
       "9055   47a642fe-975b-11eb-8c2a-000d3a38a36f               2.8571    7.8571     4.0000          1401.8000             1.0944          1449.0605 3327.7770\n",
       "13880  7137a5c0-7aad-11ea-8f20-000d3a38a36f               6.1429   13.1429    11.0000           758.0855             1.9701           767.3606 3172.3944\n",
       "17323  f59053e2-a503-11e9-a2fc-000d3a38a36f              51.7143  101.0000     7.0000          1106.4671             0.7222          1127.6115 1708.9821\n",
       "12438  625f40a2-5bd2-11ea-98b0-000d3a38a36f              74.2857   74.5714    16.0000           501.8737             1.5653           506.1667 1662.6135\n",
       "7330   a4d534a2-5b1b-11eb-8dbd-000d3a38a36f              62.7143   67.2857    52.0000           166.2246             4.6561           166.7123 1628.8874\n",
       "8868   9ce6e520-89b0-11ea-a6e7-000d3a38a36f               3.4286   34.4286     8.0000           601.2262             1.2655           611.4926 1623.8127\n",
       "6402   851de3b4-8f0c-11eb-8cb8-000d3a38a36f               8.2857    9.4286     2.0000           862.6900             0.7939           923.6800 1538.8559\n",
       "6666   53fe00d4-7b7a-11eb-960b-000d3a38a36f               9.7143   13.0000    17.0000           259.8653             2.7807           262.0729 1529.2280\n",
       "19538  55d54d9e-8ac7-11ea-8ec0-000d3a38a36f              52.5714   58.7143    31.0000           228.5300             3.0838           229.6069 1485.8192\n",
       "14858  031b2954-6d28-11eb-99c4-000d3a38a36f              14.8571   15.5714     3.0000           743.5867             0.8716           778.0504 1422.9997\n",
       "17963  8fd88976-6708-11ea-9d38-000d3a38a36f              50.2857   63.2857     7.0000           694.1986             0.9176           707.6856 1362.6072\n",
       "15516  9083981a-f59e-11e9-841e-000d3a38a36f              63.5714   83.8571     4.0000          1090.3600             0.5746          1127.3545 1359.4397\n",
       "6717   40b4f318-9dfb-11eb-9c47-000d3a38a36f              27.1429   33.8571     7.0000           544.7000             1.1630           555.4103 1355.4352\n",
       "4157   7eed6468-4540-11ea-acaf-000d3a38a36f              89.1429   90.0000    27.0000           289.7641             2.2143           291.2922 1353.5337\n",
       "4735   dbabb58e-6312-11ea-a6dc-000d3a38a36f              61.2857   64.2857    13.0000           442.1154             1.4236           446.8162 1334.8251\n",
       "11694  90f1b7f2-bbad-11ea-a0c9-000d3a38a36f              47.2857   48.0000     6.0000           647.3450             0.9339           662.1103 1297.5186\n",
       "11179  d2e74a36-3228-11eb-860c-000d3a38a36f               1.1429   26.2857     3.0000           750.5700             0.7804           785.3440 1286.1378\n",
       "1853   f02473b0-43c3-11eb-806e-000d3a38a36f              17.2857   23.1429     2.0000           835.8750             0.6843           895.0369 1285.2277\n",
       "5775   e31293ac-d63a-11e9-93bc-000d3a38a36f              91.7143   93.1429     8.0000           727.0862             0.8266           739.3933 1282.5758\n",
       "7312   90befc98-925a-11eb-b584-000d3a38a36f               4.1429    8.8571     6.0000           431.3283             1.3638           441.3982 1263.1912"
      ]
     },
     "execution_count": 17,
     "metadata": {},
     "output_type": "execute_result"
    }
   ],
   "source": [
    "cltv = ggf.customer_lifetime_value(bgf,\n",
    "                                   cltv_df['frequency'],\n",
    "                                   cltv_df['recency_cltv_weekly'],\n",
    "                                   cltv_df['T_weekly'],\n",
    "                                   cltv_df['monetary_cltv_avg'],\n",
    "                                   time=6,\n",
    "                                   freq=\"W\",\n",
    "                                   discount_rate=0.01)\n",
    "cltv_df[\"cltv\"] = cltv\n",
    "cltv_df.sort_values(\"cltv\",ascending=False)[:20]"
   ]
  },
  {
   "cell_type": "code",
   "execution_count": 16,
   "id": "feadca11",
   "metadata": {},
   "outputs": [],
   "source": [
    "#Task 4: Creating Segments by CLTV Value"
   ]
  },
  {
   "cell_type": "code",
   "execution_count": 18,
   "id": "96926d95",
   "metadata": {},
   "outputs": [],
   "source": [
    "#Step1: Divide all your customers into 4 groups (segments) according to 6-month CLTV and add the groupnames to the dataset."
   ]
  },
  {
   "cell_type": "code",
   "execution_count": 19,
   "id": "3af70429",
   "metadata": {},
   "outputs": [
    {
     "data": {
      "text/html": [
       "<div>\n",
       "<style scoped>\n",
       "    .dataframe tbody tr th:only-of-type {\n",
       "        vertical-align: middle;\n",
       "    }\n",
       "\n",
       "    .dataframe tbody tr th {\n",
       "        vertical-align: top;\n",
       "    }\n",
       "\n",
       "    .dataframe thead th {\n",
       "        text-align: right;\n",
       "    }\n",
       "</style>\n",
       "<table border=\"1\" class=\"dataframe\">\n",
       "  <thead>\n",
       "    <tr style=\"text-align: right;\">\n",
       "      <th></th>\n",
       "      <th>customer_id</th>\n",
       "      <th>recency_cltv_weekly</th>\n",
       "      <th>T_weekly</th>\n",
       "      <th>frequency</th>\n",
       "      <th>monetary_cltv_avg</th>\n",
       "      <th>exp_sales_3_month</th>\n",
       "      <th>exp_average_value</th>\n",
       "      <th>cltv</th>\n",
       "      <th>cltv_segment</th>\n",
       "    </tr>\n",
       "  </thead>\n",
       "  <tbody>\n",
       "    <tr>\n",
       "      <th>0</th>\n",
       "      <td>cc294636-19f0-11eb-8d74-000d3a38a36f</td>\n",
       "      <td>17.0000</td>\n",
       "      <td>30.5714</td>\n",
       "      <td>5.0000</td>\n",
       "      <td>187.8740</td>\n",
       "      <td>0.9739</td>\n",
       "      <td>193.6327</td>\n",
       "      <td>395.7332</td>\n",
       "      <td>A</td>\n",
       "    </tr>\n",
       "    <tr>\n",
       "      <th>1</th>\n",
       "      <td>f431bd5a-ab7b-11e9-a2fc-000d3a38a36f</td>\n",
       "      <td>209.8571</td>\n",
       "      <td>224.8571</td>\n",
       "      <td>21.0000</td>\n",
       "      <td>95.8833</td>\n",
       "      <td>0.9832</td>\n",
       "      <td>96.6650</td>\n",
       "      <td>199.4307</td>\n",
       "      <td>B</td>\n",
       "    </tr>\n",
       "    <tr>\n",
       "      <th>2</th>\n",
       "      <td>69b69676-1a40-11ea-941b-000d3a38a36f</td>\n",
       "      <td>52.2857</td>\n",
       "      <td>78.8571</td>\n",
       "      <td>5.0000</td>\n",
       "      <td>117.0640</td>\n",
       "      <td>0.6706</td>\n",
       "      <td>120.9676</td>\n",
       "      <td>170.2242</td>\n",
       "      <td>B</td>\n",
       "    </tr>\n",
       "    <tr>\n",
       "      <th>3</th>\n",
       "      <td>1854e56c-491f-11eb-806e-000d3a38a36f</td>\n",
       "      <td>1.5714</td>\n",
       "      <td>20.8571</td>\n",
       "      <td>2.0000</td>\n",
       "      <td>60.9850</td>\n",
       "      <td>0.7004</td>\n",
       "      <td>67.3201</td>\n",
       "      <td>98.9455</td>\n",
       "      <td>D</td>\n",
       "    </tr>\n",
       "    <tr>\n",
       "      <th>4</th>\n",
       "      <td>d6ea1074-f1f5-11e9-9346-000d3a38a36f</td>\n",
       "      <td>83.1429</td>\n",
       "      <td>95.4286</td>\n",
       "      <td>2.0000</td>\n",
       "      <td>104.9900</td>\n",
       "      <td>0.3960</td>\n",
       "      <td>114.3251</td>\n",
       "      <td>95.0117</td>\n",
       "      <td>D</td>\n",
       "    </tr>\n",
       "  </tbody>\n",
       "</table>\n",
       "</div>"
      ],
      "text/plain": [
       "                            customer_id  recency_cltv_weekly  T_weekly  frequency  monetary_cltv_avg  exp_sales_3_month  exp_average_value     cltv cltv_segment\n",
       "0  cc294636-19f0-11eb-8d74-000d3a38a36f              17.0000   30.5714     5.0000           187.8740             0.9739           193.6327 395.7332            A\n",
       "1  f431bd5a-ab7b-11e9-a2fc-000d3a38a36f             209.8571  224.8571    21.0000            95.8833             0.9832            96.6650 199.4307            B\n",
       "2  69b69676-1a40-11ea-941b-000d3a38a36f              52.2857   78.8571     5.0000           117.0640             0.6706           120.9676 170.2242            B\n",
       "3  1854e56c-491f-11eb-806e-000d3a38a36f               1.5714   20.8571     2.0000            60.9850             0.7004            67.3201  98.9455            D\n",
       "4  d6ea1074-f1f5-11e9-9346-000d3a38a36f              83.1429   95.4286     2.0000           104.9900             0.3960           114.3251  95.0117            D"
      ]
     },
     "execution_count": 19,
     "metadata": {},
     "output_type": "execute_result"
    }
   ],
   "source": [
    "cltv_df[\"cltv_segment\"] = pd.qcut(cltv_df[\"cltv\"], 4, labels=[\"D\", \"C\", \"B\", \"A\"])\n",
    "cltv_df.head()"
   ]
  },
  {
   "cell_type": "code",
   "execution_count": null,
   "id": "0b3bb916",
   "metadata": {},
   "outputs": [],
   "source": []
  }
 ],
 "metadata": {
  "kernelspec": {
   "display_name": "Python 3 (ipykernel)",
   "language": "python",
   "name": "python3"
  },
  "language_info": {
   "codemirror_mode": {
    "name": "ipython",
    "version": 3
   },
   "file_extension": ".py",
   "mimetype": "text/x-python",
   "name": "python",
   "nbconvert_exporter": "python",
   "pygments_lexer": "ipython3",
   "version": "3.9.13"
  }
 },
 "nbformat": 4,
 "nbformat_minor": 5
}
